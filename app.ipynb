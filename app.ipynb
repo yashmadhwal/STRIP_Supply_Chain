{
 "cells": [
  {
   "cell_type": "code",
   "execution_count": 1,
   "metadata": {},
   "outputs": [],
   "source": [
    "# Integrating with ganache"
   ]
  },
  {
   "cell_type": "code",
   "execution_count": 56,
   "metadata": {},
   "outputs": [],
   "source": [
    "# Importing libraries\n",
    "from web3 import Web3\n",
    "import json"
   ]
  },
  {
   "cell_type": "code",
   "execution_count": 57,
   "metadata": {},
   "outputs": [
    {
     "name": "stdout",
     "output_type": "stream",
     "text": [
      "isConnected: True\n",
      "0x31825AdF09f8BD2984C37042dfd3dB741492Cdf9\n",
      "0x45169Cca191f87d1fC84D7E2cD3645D680A61B9e\n",
      "0xA8913e2DB157B2533368390f6B69FB685020cdc2\n",
      "0x269Be755FB9f1e84C68FBe51ee24Dce65044AD97\n",
      "0xc7F1e9138a0bfbB359093d46AB764998Fb05cf80\n"
     ]
    }
   ],
   "source": [
    "#Connection to Blockchain\n",
    "from web3 import Web3\n",
    "web3 = Web3(Web3.HTTPProvider('HTTP://127.0.0.1:7545'))\n",
    "print(\"isConnected:\",web3.isConnected())\n",
    "\n",
    "#gettin lists of accounts available, Account[0] will be like an auditor account\n",
    "accounts_list = web3.eth.accounts\n",
    "for i in accounts_list:\n",
    "    print(i)"
   ]
  },
  {
   "cell_type": "markdown",
   "metadata": {},
   "source": [
    "\n",
    "### Initial setup(s).\n",
    "1. First account in the list will be deployer of the contracts:<br>\n",
    "    1.1. `account[0]` owner of contract `Manufacturer`<br>\n",
    "    1.2. `account[0]` owner of contract `Consumer`\n",
    "<br>\n",
    "2. Rest other accounts will be consumers. <i><u>Note:</u></i> at the moment manufacturere is also or can act as a consumer.\n"
   ]
  },
  {
   "cell_type": "code",
   "execution_count": 58,
   "metadata": {},
   "outputs": [
    {
     "name": "stdout",
     "output_type": "stream",
     "text": [
      "Medicine Manufacturer: 0x31825AdF09f8BD2984C37042dfd3dB741492Cdf9\n"
     ]
    }
   ],
   "source": [
    "#storing variables of manufacture\n",
    "manufacturer_address = accounts_list[0]\n",
    "print(\"Medicine Manufacturer:\",manufacturer_address)\n"
   ]
  },
  {
   "cell_type": "code",
   "execution_count": 59,
   "metadata": {},
   "outputs": [],
   "source": [
    "#Function to createPill\n",
    "def createPill(owner): #onlyManufacturer\n",
    "    try:\n",
    "        transaction_hash = contract_manufacturer.functions.createpills().transact({'from':owner})\n",
    "        return transaction_hash.hex()\n",
    "    \n",
    "    except ValueError:\n",
    "        return \"Error: Only manufacturere can make pills\"\n",
    "    \n",
    "#adding function to consume pill\n",
    "    \n",
    "        \n",
    "#Function to check pillBook\n",
    "def pillBookData(pillIndex):\n",
    "    fields = ['Description','strength(mg)','imprints','pregnancyCategory','csaSchedule','consumedFalse','consumedBy']\n",
    "    _ = contract_manufacturer.functions.pillBook(pillIndex).call()\n",
    "    #zipping both:\n",
    "    return dict(zip(fields,_))"
   ]
  },
  {
   "cell_type": "markdown",
   "metadata": {},
   "source": [
    "#### Deploying `Manufacturer` contract "
   ]
  },
  {
   "cell_type": "code",
   "execution_count": null,
   "metadata": {},
   "outputs": [],
   "source": []
  },
  {
   "cell_type": "code",
   "execution_count": 60,
   "metadata": {},
   "outputs": [],
   "source": [
    "#importing contract_address and abi from json\n",
    "with open('build/contracts/Manufacturer.json') as f:\n",
    "    manufacturer = json.load(f)"
   ]
  },
  {
   "cell_type": "code",
   "execution_count": 61,
   "metadata": {},
   "outputs": [],
   "source": [
    "manufacturer_contract_address = manufacturer['networks']['5777']['address']\n",
    "manufacturer_contract_abi = manufacturer['abi']\n",
    "contract_manufacturer = web3.eth.contract(address = manufacturer_contract_address, abi = manufacturer_contract_abi)"
   ]
  },
  {
   "cell_type": "markdown",
   "metadata": {},
   "source": [
    "#### Playing with Contract"
   ]
  },
  {
   "cell_type": "code",
   "execution_count": 62,
   "metadata": {},
   "outputs": [
    {
     "name": "stdout",
     "output_type": "stream",
     "text": [
      "0xb88468d82d55cb6607e395ec170785a4ce5c025a1efd1d790c9a61c091ea8968\n",
      "0x0bf1ee1c19304a62f123475ddcdc4f25f33e7ec3f626386cbea3e223ec824dcc\n",
      "0x32918219b4a0153cae91607c29ab7e4e44587131d091d3a2a981d2f4372384ab\n",
      "0x44fbe6ff2d03c13b1ec3e27bea8d6ea35606f1818154af3f25cefdc26acd13f0\n",
      "0x603d23fd500fd7be5db9442493c14ecbc582407f5658a6625b5f24fbde78804c\n"
     ]
    }
   ],
   "source": [
    "#1. Creating 5 pills\n",
    "#Only manufacturer can manufacture pills\n",
    "print(createPill(manufacturer_address))\n",
    "print(createPill(manufacturer_address))\n",
    "print(createPill(manufacturer_address))\n",
    "print(createPill(manufacturer_address))\n",
    "print(createPill(manufacturer_address))\n"
   ]
  },
  {
   "cell_type": "code",
   "execution_count": 20,
   "metadata": {},
   "outputs": [
    {
     "name": "stdout",
     "output_type": "stream",
     "text": [
      "Company Name: PharmaCompany\n",
      "Owner of Manufacturer Contact (address) 0xc461C2b68e570674e5C9A27D48fCAa7A89a5Ede4\n",
      "Next production sequence Number: 6\n"
     ]
    }
   ],
   "source": [
    "# Getting State Variables\n",
    "# Company Name\n",
    "print('Company Name:',contract_manufacturer.functions.company().call())\n",
    "# Contract Owner\n",
    "print('Owner of Manufacturer Contact (address)',contract_manufacturer.functions.owner().call())\n",
    "# Production sequece, i.e. checking howmany produced from 1 to N-1\n",
    "print('Next production sequence Number:',contract_manufacturer.functions.produnctionSequece().call())"
   ]
  },
  {
   "cell_type": "markdown",
   "metadata": {},
   "source": [
    "#### Deploying `Consumer` contract "
   ]
  },
  {
   "cell_type": "code",
   "execution_count": 21,
   "metadata": {},
   "outputs": [],
   "source": [
    "with open('build/contracts/Consumer.json') as f:\n",
    "    consumer = json.load(f)"
   ]
  },
  {
   "cell_type": "code",
   "execution_count": 22,
   "metadata": {},
   "outputs": [],
   "source": [
    "consumer_contract_address = consumer['networks']['5777']['address']\n",
    "consumer_contract_abi = consumer['abi']\n",
    "contract_consumer = web3.eth.contract(address = consumer_contract_address, abi = consumer_contract_abi)"
   ]
  },
  {
   "cell_type": "code",
   "execution_count": 23,
   "metadata": {},
   "outputs": [],
   "source": [
    "#1. 0xb10e2d527612073b26eecdfd717e6a320cf44b4afac2b0732d9fcbe2b7fa0cf6\n",
    "#2. 0x405787fa12a823e0f2b7631cc41b3ba8828b3321ca811111fa75cd3aa3bb5ace\n",
    "#3. 0xc2575a0e9e593c00f959f8c92f12db2869c3395a3b0502d05e2516446f71f85b\n",
    "#4. 0x8a35acfbc15ff81a39ae7d344fd709f28e8600b4aa8c65c6b64bfe7fe36bd19b\n",
    "#5. 0x036b6384b5eca791c62761152d0c79bb0604c104a5fb6f4eb0703f3154bb3db0"
   ]
  },
  {
   "cell_type": "code",
   "execution_count": 24,
   "metadata": {},
   "outputs": [
    {
     "name": "stdout",
     "output_type": "stream",
     "text": [
      "{'Description': 1, 'strength(mg)': 10, 'imprints': 'PD 155 10', 'pregnancyCategory': 4, 'csaSchedule': 6, 'consumedFalse': True, 'consumedBy': '0xE93D81fccdDDFB83C1879f5282d0fFdaaa470F86'}\n"
     ]
    }
   ],
   "source": [
    "#Now consumer can only consume,\n",
    "#assuming that he is not call function to call information about the pill.\n",
    "#consumption we are doing only from other contract.\n",
    "\n",
    "#consuming pill with correct indexes\n",
    "pill_index = 1\n",
    "\n",
    "pill_consumption_hash = contract_consumer.functions.consumeThePill(pill_index).transact({'from':accounts_list[1]})\n",
    "print(pillBookData('0xb10e2d527612073b26eecdfd717e6a320cf44b4afac2b0732d9fcbe2b7fa0cf6'))"
   ]
  },
  {
   "cell_type": "code",
   "execution_count": 25,
   "metadata": {},
   "outputs": [
    {
     "name": "stdout",
     "output_type": "stream",
     "text": [
      "{'Description': 2, 'strength(mg)': 10, 'imprints': 'PD 155 10', 'pregnancyCategory': 4, 'csaSchedule': 6, 'consumedFalse': True, 'consumedBy': '0x8540a9C0F1a2f7081F4d96498e4754E2173B8F19'}\n"
     ]
    }
   ],
   "source": [
    "pill_index = 2\n",
    "\n",
    "pill_consumption_hash = contract_consumer.functions.consumeThePill(pill_index).transact({'from':accounts_list[2]})\n",
    "print(pillBookData('0x405787fa12a823e0f2b7631cc41b3ba8828b3321ca811111fa75cd3aa3bb5ace'))"
   ]
  },
  {
   "cell_type": "code",
   "execution_count": 26,
   "metadata": {},
   "outputs": [
    {
     "name": "stdout",
     "output_type": "stream",
     "text": [
      "{'Description': 3, 'strength(mg)': 10, 'imprints': 'PD 155 10', 'pregnancyCategory': 4, 'csaSchedule': 6, 'consumedFalse': True, 'consumedBy': '0xF62468745e14c8Ba14db5AC25D8ab93d6F717896'}\n"
     ]
    }
   ],
   "source": [
    "pill_index = 3\n",
    "\n",
    "pill_consumption_hash = contract_consumer.functions.consumeThePill(pill_index).transact({'from':accounts_list[3]})\n",
    "print(pillBookData('0xc2575a0e9e593c00f959f8c92f12db2869c3395a3b0502d05e2516446f71f85b'))"
   ]
  },
  {
   "cell_type": "code",
   "execution_count": null,
   "metadata": {},
   "outputs": [],
   "source": []
  },
  {
   "cell_type": "code",
   "execution_count": null,
   "metadata": {
    "scrolled": true
   },
   "outputs": [],
   "source": []
  },
  {
   "cell_type": "code",
   "execution_count": 28,
   "metadata": {
    "scrolled": true
   },
   "outputs": [
    {
     "name": "stdout",
     "output_type": "stream",
     "text": [
      "{'Description': 4, 'strength(mg)': 10, 'imprints': 'PD 155 10', 'pregnancyCategory': 4, 'csaSchedule': 6, 'consumedFalse': True, 'consumedBy': '0xF62468745e14c8Ba14db5AC25D8ab93d6F717896'}\n"
     ]
    }
   ],
   "source": [
    "pill_index = 4\n",
    "\n",
    "pill_consumption_hash = contract_consumer.functions.consumeThePill(pill_index).transact({'from':accounts_list[3]})\n",
    "print(pillBookData('0x8a35acfbc15ff81a39ae7d344fd709f28e8600b4aa8c65c6b64bfe7fe36bd19b'))"
   ]
  },
  {
   "cell_type": "code",
   "execution_count": 29,
   "metadata": {},
   "outputs": [
    {
     "name": "stdout",
     "output_type": "stream",
     "text": [
      "{'Description': 5, 'strength(mg)': 10, 'imprints': 'PD 155 10', 'pregnancyCategory': 4, 'csaSchedule': 6, 'consumedFalse': True, 'consumedBy': '0xF62468745e14c8Ba14db5AC25D8ab93d6F717896'}\n"
     ]
    }
   ],
   "source": [
    "pill_index = 5\n",
    "\n",
    "pill_consumption_hash = contract_consumer.functions.consumeThePill(pill_index).transact({'from':accounts_list[3]})\n",
    "print(pillBookData('0x036b6384b5eca791c62761152d0c79bb0604c104a5fb6f4eb0703f3154bb3db0'))"
   ]
  },
  {
   "cell_type": "code",
   "execution_count": null,
   "metadata": {
    "scrolled": true
   },
   "outputs": [],
   "source": []
  },
  {
   "cell_type": "markdown",
   "metadata": {},
   "source": [
    "#### Taking Transaction Reciept"
   ]
  },
  {
   "cell_type": "code",
   "execution_count": 63,
   "metadata": {},
   "outputs": [
    {
     "name": "stdout",
     "output_type": "stream",
     "text": [
      "AttributeDict({'transactionHash': HexBytes('0xb88468d82d55cb6607e395ec170785a4ce5c025a1efd1d790c9a61c091ea8968'), 'transactionIndex': 0, 'blockHash': HexBytes('0x20900460b13e98a4cfd206bb5381d2eb6989d53c9db208212fb9f261447c7523'), 'blockNumber': 6, 'from': '0x31825AdF09f8BD2984C37042dfd3dB741492Cdf9', 'to': '0xccDd51B4E0eb45Ea4FA9c121BCd0a29CE8d4E341', 'gasUsed': 136765, 'cumulativeGasUsed': 136765, 'contractAddress': None, 'logs': [AttributeDict({'logIndex': 0, 'transactionIndex': 0, 'transactionHash': HexBytes('0xb88468d82d55cb6607e395ec170785a4ce5c025a1efd1d790c9a61c091ea8968'), 'blockHash': HexBytes('0x20900460b13e98a4cfd206bb5381d2eb6989d53c9db208212fb9f261447c7523'), 'blockNumber': 6, 'address': '0xccDd51B4E0eb45Ea4FA9c121BCd0a29CE8d4E341', 'data': '0x0000000000000000000000000000000000000000000000000000000000000020000000000000000000000000000000000000000000000000000000000000001550696c6c20637265617465642c206e756d6265723a0000000000000000000000', 'topics': [HexBytes('0x44e3384d71430968a6c993242d5cee784d6d6ef90280d8422c7b35685667d47b'), HexBytes('0x0000000000000000000000000000000000000000000000000000000000000001')], 'type': 'mined'})], 'status': 1, 'logsBloom': HexBytes('0x00000000000000000000000000000000000000000000000000000000000000000000100000000000000000000000000000000000000000000002000000040000000000000000000000000000000000000000000000040000000000000000000000000020000000000000000000000000000000000000000000000000000000000000000000040000000000000000000000000000000000000000000000000000000000000000000000000000000000010000000000000000000000000000000000000000000000000000000000000000000000000000000000000000000040000000000000000000000000000000000000000000000000000000000008000000')})\n"
     ]
    }
   ],
   "source": [
    "bid_txn_receipt = web3.eth.waitForTransactionReceipt(\"0xb88468d82d55cb6607e395ec170785a4ce5c025a1efd1d790c9a61c091ea8968\")\n",
    "print(bid_txn_receipt)"
   ]
  },
  {
   "cell_type": "code",
   "execution_count": 66,
   "metadata": {
    "scrolled": true
   },
   "outputs": [],
   "source": [
    "tx_receipt = web3.eth.getTransactionReceipt('0xb88468d82d55cb6607e395ec170785a4ce5c025a1efd1d790c9a61c091ea8968')\n",
    "rich_logs = contract_manufacturer.events.PillCreated().processReceipt(tx_receipt)"
   ]
  },
  {
   "cell_type": "code",
   "execution_count": 74,
   "metadata": {},
   "outputs": [
    {
     "data": {
      "text/plain": [
       "AttributeDict({'description': 1, 'message': 'Pill created, number:'})"
      ]
     },
     "execution_count": 74,
     "metadata": {},
     "output_type": "execute_result"
    }
   ],
   "source": [
    "rich_logs[0]['args']"
   ]
  },
  {
   "cell_type": "code",
   "execution_count": 75,
   "metadata": {},
   "outputs": [
    {
     "data": {
      "text/plain": [
       "1"
      ]
     },
     "execution_count": 75,
     "metadata": {},
     "output_type": "execute_result"
    }
   ],
   "source": [
    "rich_logs[0]['args']['description']"
   ]
  },
  {
   "cell_type": "code",
   "execution_count": 76,
   "metadata": {},
   "outputs": [
    {
     "data": {
      "text/plain": [
       "'Pill created, number:'"
      ]
     },
     "execution_count": 76,
     "metadata": {},
     "output_type": "execute_result"
    }
   ],
   "source": [
    "rich_logs[0]['args']['message']"
   ]
  },
  {
   "cell_type": "code",
   "execution_count": null,
   "metadata": {},
   "outputs": [],
   "source": []
  }
 ],
 "metadata": {
  "kernelspec": {
   "display_name": "Python 3",
   "language": "python",
   "name": "python3"
  },
  "language_info": {
   "codemirror_mode": {
    "name": "ipython",
    "version": 3
   },
   "file_extension": ".py",
   "mimetype": "text/x-python",
   "name": "python",
   "nbconvert_exporter": "python",
   "pygments_lexer": "ipython3",
   "version": "3.7.6"
  }
 },
 "nbformat": 4,
 "nbformat_minor": 4
}
