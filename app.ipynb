{
 "cells": [
  {
   "cell_type": "code",
   "execution_count": 1,
   "metadata": {},
   "outputs": [],
   "source": [
    "# Integrating with ganache"
   ]
  },
  {
   "cell_type": "code",
   "execution_count": 2,
   "metadata": {},
   "outputs": [],
   "source": [
    "# Importing libraries\n",
    "from web3 import Web3\n",
    "import json"
   ]
  },
  {
   "cell_type": "code",
   "execution_count": 3,
   "metadata": {},
   "outputs": [
    {
     "name": "stdout",
     "output_type": "stream",
     "text": [
      "isConnected: True\n",
      "0x7fBE065Ee94379d96Bc5b4182691a697166b121e\n",
      "0x7cE107421D2521B195F9530baEB58074A11a2fC1\n",
      "0xFe226b0C0155C4848616eB79fd9396894C83e68d\n",
      "0x79EF06B291F9Cb085AEb852076Ba64d9617A7B4f\n",
      "0x722E0BD4f35E1f70730368148F9636eFAF7ACe3a\n"
     ]
    }
   ],
   "source": [
    "#Connection to Blockchain\n",
    "from web3 import Web3\n",
    "web3 = Web3(Web3.HTTPProvider('HTTP://127.0.0.1:7545'))\n",
    "print(\"isConnected:\",web3.isConnected())\n",
    "\n",
    "#gettin lists of accounts available, Account[0] will be like an auditor account\n",
    "accounts_list = web3.eth.accounts\n",
    "for i in accounts_list:\n",
    "    print(i)"
   ]
  },
  {
   "cell_type": "markdown",
   "metadata": {},
   "source": [
    "\n",
    "### Initial setup(s).\n",
    "1. First account in the list will be deployer of the contracts:<br>\n",
    "    1.1. `account[0]` owner of contract `Manufacturer`<br>\n",
    "    1.2. `account[0]` owner of contract `Consumer`\n",
    "<br>\n",
    "2. Rest other accounts will be consumers. <i><u>Note:</u></i> at the moment manufacturere is also or can act as a consumer.\n"
   ]
  },
  {
   "cell_type": "code",
   "execution_count": 4,
   "metadata": {},
   "outputs": [
    {
     "name": "stdout",
     "output_type": "stream",
     "text": [
      "Medicine Manufacturer: 0x7fBE065Ee94379d96Bc5b4182691a697166b121e\n"
     ]
    }
   ],
   "source": [
    "#storing variables of manufacture\n",
    "manufacturer_address = accounts_list[0]\n",
    "print(\"Medicine Manufacturer:\",manufacturer_address)\n"
   ]
  },
  {
   "cell_type": "code",
   "execution_count": 5,
   "metadata": {},
   "outputs": [],
   "source": [
    "#Function to createPill\n",
    "def createPill(owner): #onlyManufacturer\n",
    "    try:\n",
    "        transaction_hash = contract_manufacturer.functions.createpills().transact({'from':owner})\n",
    "        return transaction_hash.hex()\n",
    "    \n",
    "    except ValueError:\n",
    "        return \"Error: Only manufacturere can make pills\"\n",
    "    \n",
    "#adding function to consume pill\n",
    "    \n",
    "        \n",
    "#Function to check pillBook\n",
    "def pillBookData(pillIndex):\n",
    "    fields = ['Description','strength(mg)','imprints','pregnancyCategory','csaSchedule','consumedFalse','consumedBy']\n",
    "    _ = contract_manufacturer.functions.pillBook(pillIndex).call()\n",
    "    #zipping both:\n",
    "    return dict(zip(fields,_))"
   ]
  },
  {
   "cell_type": "markdown",
   "metadata": {},
   "source": [
    "#### Deploying `Manufacturer` contract "
   ]
  },
  {
   "cell_type": "code",
   "execution_count": null,
   "metadata": {},
   "outputs": [],
   "source": []
  },
  {
   "cell_type": "code",
   "execution_count": 6,
   "metadata": {},
   "outputs": [],
   "source": [
    "#importing contract_address and abi from json\n",
    "with open('build/contracts/Manufacturer.json') as f:\n",
    "    manufacturer = json.load(f)"
   ]
  },
  {
   "cell_type": "code",
   "execution_count": 7,
   "metadata": {},
   "outputs": [],
   "source": [
    "manufacturer_contract_address = manufacturer['networks']['5777']['address']\n",
    "manufacturer_contract_abi = manufacturer['abi']\n",
    "contract_manufacturer = web3.eth.contract(address = manufacturer_contract_address, abi = manufacturer_contract_abi)"
   ]
  },
  {
   "cell_type": "markdown",
   "metadata": {},
   "source": [
    "#### Playing with Contract"
   ]
  },
  {
   "cell_type": "code",
   "execution_count": 8,
   "metadata": {},
   "outputs": [
    {
     "name": "stdout",
     "output_type": "stream",
     "text": [
      "0x76b2db2d5d283ffa34a1c13f41b0a3ad68477babdc146614f1dcf618cfc13e77\n",
      "0x9f6df906e65bc6dd4657674fa3d6bb9762164d417f3e5d1fe0dd9e5aa554c346\n",
      "0xbe4f74c829889566baabd38e2d0b2a145b3ce2ea821ccbfd7ed218d26c1b9961\n",
      "0xeb20d1c0d63b87cd903d0fcf64a426c06d562d7cde6a11bc4149d03a6fb1c87d\n",
      "0x915f7338fec4dd5a7aba2345643b7eb8bf65ec76cd754522781af1ebbe560161\n"
     ]
    }
   ],
   "source": [
    "#1. Creating 5 pills\n",
    "#Only manufacturer can manufacture pills\n",
    "print(createPill(manufacturer_address))\n",
    "print(createPill(manufacturer_address))\n",
    "print(createPill(manufacturer_address))\n",
    "print(createPill(manufacturer_address))\n",
    "print(createPill(manufacturer_address))\n"
   ]
  },
  {
   "cell_type": "code",
   "execution_count": 9,
   "metadata": {},
   "outputs": [
    {
     "name": "stdout",
     "output_type": "stream",
     "text": [
      "Company Name: PharmaCompany\n",
      "Owner of Manufacturer Contact (address) 0x7fBE065Ee94379d96Bc5b4182691a697166b121e\n",
      "Next production sequence Number: 6\n"
     ]
    }
   ],
   "source": [
    "# Getting State Variables\n",
    "# Company Name\n",
    "print('Company Name:',contract_manufacturer.functions.company().call())\n",
    "# Contract Owner\n",
    "print('Owner of Manufacturer Contact (address)',contract_manufacturer.functions.owner().call())\n",
    "# Production sequece, i.e. checking howmany produced from 1 to N-1\n",
    "print('Next production sequence Number:',contract_manufacturer.functions.produnctionSequece().call())"
   ]
  },
  {
   "cell_type": "markdown",
   "metadata": {},
   "source": [
    "#### Deploying `Consumer` contract "
   ]
  },
  {
   "cell_type": "code",
   "execution_count": 12,
   "metadata": {},
   "outputs": [],
   "source": [
    "with open('build/contracts/Consumer.json') as f:\n",
    "    consumer = json.load(f)"
   ]
  },
  {
   "cell_type": "code",
   "execution_count": 13,
   "metadata": {},
   "outputs": [],
   "source": [
    "consumer_contract_address = consumer['networks']['5777']['address']\n",
    "consumer_contract_abi = consumer['abi']\n",
    "contract_consumer = web3.eth.contract(address = consumer_contract_address, abi = consumer_contract_abi)"
   ]
  },
  {
   "cell_type": "code",
   "execution_count": 14,
   "metadata": {},
   "outputs": [],
   "source": [
    "#1. 0xb10e2d527612073b26eecdfd717e6a320cf44b4afac2b0732d9fcbe2b7fa0cf6\n",
    "#2. 0x405787fa12a823e0f2b7631cc41b3ba8828b3321ca811111fa75cd3aa3bb5ace\n",
    "#3. 0xc2575a0e9e593c00f959f8c92f12db2869c3395a3b0502d05e2516446f71f85b\n",
    "#4. 0x8a35acfbc15ff81a39ae7d344fd709f28e8600b4aa8c65c6b64bfe7fe36bd19b\n",
    "#5. 0x036b6384b5eca791c62761152d0c79bb0604c104a5fb6f4eb0703f3154bb3db0"
   ]
  },
  {
   "cell_type": "code",
   "execution_count": 15,
   "metadata": {},
   "outputs": [
    {
     "name": "stdout",
     "output_type": "stream",
     "text": [
      "{'Description': 1, 'strength(mg)': 10, 'imprints': 'PD 155 10', 'pregnancyCategory': 4, 'csaSchedule': 6, 'consumedFalse': True, 'consumedBy': '0x7cE107421D2521B195F9530baEB58074A11a2fC1'}\n"
     ]
    }
   ],
   "source": [
    "#Now consumer can only consume,\n",
    "#assuming that he is not call function to call information about the pill.\n",
    "#consumption we are doing only from other contract.\n",
    "\n",
    "#consuming pill with correct indexes\n",
    "pill_index = 1\n",
    "\n",
    "pill_consumption_hash = contract_consumer.functions.consumeThePill(pill_index).transact({'from':accounts_list[1]})\n",
    "print(pillBookData('0xb10e2d527612073b26eecdfd717e6a320cf44b4afac2b0732d9fcbe2b7fa0cf6'))"
   ]
  },
  {
   "cell_type": "code",
   "execution_count": 16,
   "metadata": {},
   "outputs": [
    {
     "name": "stdout",
     "output_type": "stream",
     "text": [
      "{'Description': 2, 'strength(mg)': 10, 'imprints': 'PD 155 10', 'pregnancyCategory': 4, 'csaSchedule': 6, 'consumedFalse': True, 'consumedBy': '0xFe226b0C0155C4848616eB79fd9396894C83e68d'}\n"
     ]
    }
   ],
   "source": [
    "pill_index = 2\n",
    "\n",
    "pill_consumption_hash = contract_consumer.functions.consumeThePill(pill_index).transact({'from':accounts_list[2]})\n",
    "print(pillBookData('0x405787fa12a823e0f2b7631cc41b3ba8828b3321ca811111fa75cd3aa3bb5ace'))"
   ]
  },
  {
   "cell_type": "code",
   "execution_count": 17,
   "metadata": {},
   "outputs": [
    {
     "name": "stdout",
     "output_type": "stream",
     "text": [
      "{'Description': 3, 'strength(mg)': 10, 'imprints': 'PD 155 10', 'pregnancyCategory': 4, 'csaSchedule': 6, 'consumedFalse': True, 'consumedBy': '0x79EF06B291F9Cb085AEb852076Ba64d9617A7B4f'}\n"
     ]
    }
   ],
   "source": [
    "pill_index = 3\n",
    "\n",
    "pill_consumption_hash = contract_consumer.functions.consumeThePill(pill_index).transact({'from':accounts_list[3]})\n",
    "print(pillBookData('0xc2575a0e9e593c00f959f8c92f12db2869c3395a3b0502d05e2516446f71f85b'))"
   ]
  },
  {
   "cell_type": "code",
   "execution_count": null,
   "metadata": {},
   "outputs": [],
   "source": []
  },
  {
   "cell_type": "code",
   "execution_count": null,
   "metadata": {
    "scrolled": true
   },
   "outputs": [],
   "source": [
    "consumer_contract_address = contract_manufacturer.functions.consumer().call()\n",
    "print('Consumer contract at:',consumer_contract_address)\n",
    "consumer_contract_abi = consumer['abi']\n",
    "contract_consumer = web3.eth.contract(address = consumer_contract_address, abi = consumer_contract_abi)"
   ]
  },
  {
   "cell_type": "code",
   "execution_count": null,
   "metadata": {
    "scrolled": true
   },
   "outputs": [],
   "source": [
    "pill_index = 4\n",
    "\n",
    "pill_consumption_hash = contract_consumer.functions.consumeThePill(pill_index).transact({'from':accounts_list[3]})\n",
    "print(pillBookData('0x8a35acfbc15ff81a39ae7d344fd709f28e8600b4aa8c65c6b64bfe7fe36bd19b'))"
   ]
  },
  {
   "cell_type": "code",
   "execution_count": null,
   "metadata": {},
   "outputs": [],
   "source": [
    "pill_index = 5\n",
    "\n",
    "pill_consumption_hash = contract_consumer.functions.consumeThePill(pill_index).transact({'from':accounts_list[3]})\n",
    "print(pillBookData('0x036b6384b5eca791c62761152d0c79bb0604c104a5fb6f4eb0703f3154bb3db0'))"
   ]
  },
  {
   "cell_type": "code",
   "execution_count": null,
   "metadata": {
    "scrolled": true
   },
   "outputs": [],
   "source": [
    "consumer_contract_address = contract_manufacturer.functions.consumer().call()\n",
    "print('Consumer contract at:',consumer_contract_address)\n",
    "consumer_contract_abi = consumer['abi']\n",
    "contract_consumer = web3.eth.contract(address = consumer_contract_address, abi = consumer_contract_abi)"
   ]
  },
  {
   "cell_type": "code",
   "execution_count": null,
   "metadata": {},
   "outputs": [],
   "source": []
  },
  {
   "cell_type": "code",
   "execution_count": null,
   "metadata": {
    "scrolled": true
   },
   "outputs": [],
   "source": [
    "pill_index = 6\n",
    "\n",
    "pill_consumption_hash = contract_consumer.functions.consumeThePill(pill_index).transact({'from':accounts_list[3]})\n",
    "print(pillBookData('0xf652222313e28459528d920b65115c16c04f3efc82aaedc97be59f3f377c0d3f'))"
   ]
  },
  {
   "cell_type": "code",
   "execution_count": null,
   "metadata": {},
   "outputs": [],
   "source": [
    "pill_index = 7\n",
    "\n",
    "pill_consumption_hash = contract_consumer.functions.consumeThePill(pill_index).transact({'from':accounts_list[3]})\n",
    "print(pillBookData('0x036b6384b5eca791c62761152d0c79bb0604c104a5fb6f4eb0703f3154bb3db0'))"
   ]
  },
  {
   "cell_type": "code",
   "execution_count": null,
   "metadata": {},
   "outputs": [],
   "source": []
  }
 ],
 "metadata": {
  "kernelspec": {
   "display_name": "Python 3",
   "language": "python",
   "name": "python3"
  },
  "language_info": {
   "codemirror_mode": {
    "name": "ipython",
    "version": 3
   },
   "file_extension": ".py",
   "mimetype": "text/x-python",
   "name": "python",
   "nbconvert_exporter": "python",
   "pygments_lexer": "ipython3",
   "version": "3.7.6"
  }
 },
 "nbformat": 4,
 "nbformat_minor": 4
}
