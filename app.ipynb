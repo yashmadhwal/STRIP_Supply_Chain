{
 "cells": [
  {
   "cell_type": "code",
   "execution_count": 9,
   "metadata": {},
   "outputs": [],
   "source": [
    "# Integrating with ganache"
   ]
  },
  {
   "cell_type": "code",
   "execution_count": 10,
   "metadata": {},
   "outputs": [],
   "source": [
    "# Importing libraries\n",
    "from web3 import Web3\n"
   ]
  },
  {
   "cell_type": "code",
   "execution_count": 11,
   "metadata": {},
   "outputs": [
    {
     "name": "stdout",
     "output_type": "stream",
     "text": [
      "isConnected: True\n",
      "0xB0638837d4f73b0906c400baEfee587C8dF8Fc35\n",
      "0xfE3185e0B4E2e76A2f3aA79f050E286Ed94Abf69\n",
      "0x326De6d68594C65b5a06D346DA5dD3e27cd16688\n",
      "0xcB42B9094fc444260d319C63D49c2199d8b18d37\n",
      "0x07E74D6a4a6e77B6AEbE3e6D613368895b3B2f88\n"
     ]
    }
   ],
   "source": [
    "#Connection to Blockchain\n",
    "from web3 import Web3\n",
    "web3 = Web3(Web3.HTTPProvider('HTTP://127.0.0.1:7545'))\n",
    "print(\"isConnected:\",web3.isConnected())\n",
    "\n",
    "#gettin lists of accounts available, Account[0] will be like an auditor account\n",
    "accounts_list = web3.eth.accounts\n",
    "for i in accounts_list:\n",
    "    print(i)"
   ]
  },
  {
   "cell_type": "markdown",
   "metadata": {},
   "source": [
    "\n",
    "### Initial setup(s).\n",
    "1. First account in the list will be deployer of the contracts:<br>\n",
    "    1.1. `account[0]` owner of contract `Manufacturer`<br>\n",
    "    1.2. `account[0]` owner of contract `Consumer`\n",
    "<br>\n",
    "2. Rest other accounts will be consumers. <i><u>Note:</u></i> at the moment manufacturere is also or can act as a consumer.\n"
   ]
  },
  {
   "cell_type": "code",
   "execution_count": 12,
   "metadata": {},
   "outputs": [
    {
     "name": "stdout",
     "output_type": "stream",
     "text": [
      "Medicine Manufacturer: 0xB0638837d4f73b0906c400baEfee587C8dF8Fc35\n"
     ]
    }
   ],
   "source": [
    "#storing variables of manufacture\n",
    "manufacturer = accounts_list[0]\n",
    "print(\"Medicine Manufacturer:\",manufacturer)\n"
   ]
  },
  {
   "cell_type": "code",
   "execution_count": 37,
   "metadata": {},
   "outputs": [],
   "source": [
    "#Function to createPill\n",
    "def createPill(): #onlyManufacturer\n",
    "    try:\n",
    "        transaction_hash = contract_manufacturer.functions.createpills().transact({'from':manufacturer})\n",
    "        return transaction_hash.hex()\n",
    "    \n",
    "    except ValueError:\n",
    "        return \"Error: Only manufacturere can make pills\"\n",
    "    \n",
    "#adding function to consume pill\n",
    "    \n",
    "        \n",
    "#Function to check pillBook\n",
    "def pillBookData(pillIndex):\n",
    "    fields = ['Description','strength(mg)','imprints','pregnancyCategory','csaSchedule','consumedFalse','consumedBy']\n",
    "    _ = contract_manufacturer.functions.pillBook(pillIndex).call()\n",
    "    #zipping both:\n",
    "    return dict(zip(fields,_))"
   ]
  },
  {
   "cell_type": "markdown",
   "metadata": {},
   "source": [
    "#### Deploying `Manufacturer` contract "
   ]
  },
  {
   "cell_type": "code",
   "execution_count": 34,
   "metadata": {},
   "outputs": [],
   "source": [
    "manufacturer_contract_address = '0xf292467579EDd2858cc634bf9de59c6EA1282286'\n",
    "manufacturer_contract_abi = '[ { \"inputs\": [ { \"internalType\": \"uint256\", \"name\": \"_pillId\", \"type\": \"uint256\" }, { \"internalType\": \"address\", \"name\": \"_consumer\", \"type\": \"address\" } ], \"name\": \"consumingThePill\", \"outputs\": [], \"stateMutability\": \"nonpayable\", \"type\": \"function\" }, { \"inputs\": [], \"name\": \"createpills\", \"outputs\": [], \"stateMutability\": \"nonpayable\", \"type\": \"function\" }, { \"inputs\": [], \"stateMutability\": \"nonpayable\", \"type\": \"constructor\" }, { \"anonymous\": false, \"inputs\": [ { \"indexed\": false, \"internalType\": \"string\", \"name\": \"message\", \"type\": \"string\" }, { \"indexed\": true, \"internalType\": \"uint256\", \"name\": \"description\", \"type\": \"uint256\" } ], \"name\": \"PillCreated\", \"type\": \"event\" }, { \"inputs\": [], \"name\": \"company\", \"outputs\": [ { \"internalType\": \"string\", \"name\": \"\", \"type\": \"string\" } ], \"stateMutability\": \"view\", \"type\": \"function\" }, { \"inputs\": [], \"name\": \"consumer\", \"outputs\": [ { \"internalType\": \"contract Consumer\", \"name\": \"\", \"type\": \"address\" } ], \"stateMutability\": \"view\", \"type\": \"function\" }, { \"inputs\": [], \"name\": \"owner\", \"outputs\": [ { \"internalType\": \"address\", \"name\": \"\", \"type\": \"address\" } ], \"stateMutability\": \"view\", \"type\": \"function\" }, { \"inputs\": [ { \"internalType\": \"uint256\", \"name\": \"_index\", \"type\": \"uint256\" } ], \"name\": \"parentMapping\", \"outputs\": [ { \"internalType\": \"uint256\", \"name\": \"\", \"type\": \"uint256\" }, { \"internalType\": \"string\", \"name\": \"\", \"type\": \"string\" } ], \"stateMutability\": \"view\", \"type\": \"function\" }, { \"inputs\": [ { \"internalType\": \"uint256\", \"name\": \"\", \"type\": \"uint256\" } ], \"name\": \"pillBook\", \"outputs\": [ { \"internalType\": \"uint256\", \"name\": \"Description\", \"type\": \"uint256\" }, { \"internalType\": \"uint256\", \"name\": \"strengthmg\", \"type\": \"uint256\" }, { \"internalType\": \"string\", \"name\": \"imprints\", \"type\": \"string\" }, { \"internalType\": \"uint256\", \"name\": \"pregnancyCategory\", \"type\": \"uint256\" }, { \"internalType\": \"uint256\", \"name\": \"csaSchedule\", \"type\": \"uint256\" }, { \"internalType\": \"bool\", \"name\": \"consumedFalse\", \"type\": \"bool\" }, { \"internalType\": \"address\", \"name\": \"consumedBy\", \"type\": \"address\" } ], \"stateMutability\": \"view\", \"type\": \"function\" }, { \"inputs\": [], \"name\": \"produnctionSequece\", \"outputs\": [ { \"internalType\": \"uint256\", \"name\": \"\", \"type\": \"uint256\" } ], \"stateMutability\": \"view\", \"type\": \"function\" } ]'\n",
    "contract_manufacturer = web3.eth.contract(address = manufacturer_contract_address, abi = manufacturer_contract_abi)"
   ]
  },
  {
   "cell_type": "markdown",
   "metadata": {},
   "source": [
    "#### Playing with Contract"
   ]
  },
  {
   "cell_type": "code",
   "execution_count": 35,
   "metadata": {},
   "outputs": [
    {
     "name": "stdout",
     "output_type": "stream",
     "text": [
      "0x1c4fb7dc4f7b625329091c8197299cfa1cbf7c35f28e572532b6a748025c55e1\n"
     ]
    }
   ],
   "source": [
    "#1. Creating pills\n",
    "# Only manufacturer can manufacture pills\n",
    "print(createPill())"
   ]
  },
  {
   "cell_type": "code",
   "execution_count": 26,
   "metadata": {},
   "outputs": [
    {
     "name": "stdout",
     "output_type": "stream",
     "text": [
      "Company Name: PharmaCompany\n",
      "Owner of Manufacturer Contact (address) 0xB0638837d4f73b0906c400baEfee587C8dF8Fc35\n",
      "Next production sequence Number: 3\n"
     ]
    }
   ],
   "source": [
    "# Getting State Variables\n",
    "# Company Name\n",
    "print('Company Name:',contract_manufacturer.functions.company().call())\n",
    "# Contract Owner\n",
    "print('Owner of Manufacturer Contact (address)',contract_manufacturer.functions.owner().call())\n",
    "# Production sequece, i.e. checking howmany produced from 1 to N-1\n",
    "print('Next production sequence Number:',contract_manufacturer.functions.produnctionSequece().call())"
   ]
  },
  {
   "cell_type": "code",
   "execution_count": 27,
   "metadata": {},
   "outputs": [
    {
     "name": "stdout",
     "output_type": "stream",
     "text": [
      "Consumer contract at: 0xa6E31C3BB19b238Ba193DF26FC769e48FA908093\n"
     ]
    }
   ],
   "source": [
    "### CONSUMER CONTRACT ADDRESS ###\n",
    "consumer_contract_address = contract_manufacturer.functions.consumer().call()\n",
    "print('Consumer contract at:',consumer_contract_address)"
   ]
  },
  {
   "cell_type": "code",
   "execution_count": 29,
   "metadata": {},
   "outputs": [
    {
     "name": "stdout",
     "output_type": "stream",
     "text": [
      "{'Description': 2, 'strength(mg)': 10, 'imprints': 'PD 155 10', 'pregnancyCategory': 4, 'csaSchedule': 6, 'consumedFalse': False, 'consumedBy': '0x0000000000000000000000000000000000000000'}\n"
     ]
    }
   ],
   "source": [
    "#Checking pillBook Data (dictionary)\n",
    "print(pillBookData(2))"
   ]
  },
  {
   "cell_type": "markdown",
   "metadata": {},
   "source": [
    "#### Deploying `Consumer` contract "
   ]
  },
  {
   "cell_type": "code",
   "execution_count": 18,
   "metadata": {},
   "outputs": [
    {
     "name": "stdout",
     "output_type": "stream",
     "text": [
      "Consumer contract at: 0xa6E31C3BB19b238Ba193DF26FC769e48FA908093\n"
     ]
    }
   ],
   "source": [
    "#Consumer contract is deployed by manufacturer and deployed at a specific address, we first retrieve that address\n",
    "consumer_contract_address = contract_manufacturer.functions.consumer().call()\n",
    "print('Consumer contract at:',consumer_contract_address)"
   ]
  },
  {
   "cell_type": "code",
   "execution_count": 19,
   "metadata": {},
   "outputs": [],
   "source": [
    "consumer_contract_abi = '[ { \"inputs\": [ { \"internalType\": \"uint256\", \"name\": \"_pillnumber\", \"type\": \"uint256\" } ], \"name\": \"consumeThePill\", \"outputs\": [], \"stateMutability\": \"nonpayable\", \"type\": \"function\" }, { \"inputs\": [ { \"internalType\": \"address\", \"name\": \"_manufacturereAddress\", \"type\": \"address\" } ], \"stateMutability\": \"nonpayable\", \"type\": \"constructor\" }, { \"inputs\": [ { \"internalType\": \"uint256\", \"name\": \"_index\", \"type\": \"uint256\" } ], \"name\": \"viewData\", \"outputs\": [ { \"internalType\": \"uint256\", \"name\": \"\", \"type\": \"uint256\" }, { \"internalType\": \"string\", \"name\": \"\", \"type\": \"string\" } ], \"stateMutability\": \"view\", \"type\": \"function\" } ]'\n",
    "contract_consumer = web3.eth.contract(address = consumer_contract_address, abi = consumer_contract_abi)"
   ]
  },
  {
   "cell_type": "code",
   "execution_count": 20,
   "metadata": {},
   "outputs": [],
   "source": [
    "#Now consumer can only consume,\n",
    "#assuming that he is not call function to call information about the pill.\n",
    "#consumption we are doing only from other contract.\n",
    "\n",
    "#consuming pill with correct indexes\n",
    "pill_index = 1\n",
    "\n",
    "pill_consumption_hash = contract_consumer.functions.consumeThePill(pill_index).transact({'from':accounts_list[1]})"
   ]
  },
  {
   "cell_type": "code",
   "execution_count": 21,
   "metadata": {},
   "outputs": [
    {
     "name": "stdout",
     "output_type": "stream",
     "text": [
      "{'Description': 1, 'strength(mg)': 10, 'imprints': 'PD 155 10', 'pregnancyCategory': 4, 'csaSchedule': 6, 'consumedFalse': True, 'consumedBy': '0xfE3185e0B4E2e76A2f3aA79f050E286Ed94Abf69'}\n"
     ]
    }
   ],
   "source": [
    "#checking the information\n",
    "#Getting state variable (passing arguments)\n",
    "# exploting Pillbook\n",
    "fields = ['Description','strength(mg)','imprints','pregnancyCategory','csaSchedule','consumedFalse','consumedBy']\n",
    "_ = contract_manufacturer.functions.pillBook(1).call()\n",
    "#zipping both:\n",
    "print(dict(zip(fields,_)))\n"
   ]
  },
  {
   "cell_type": "code",
   "execution_count": null,
   "metadata": {},
   "outputs": [],
   "source": []
  }
 ],
 "metadata": {
  "kernelspec": {
   "display_name": "Python 3",
   "language": "python",
   "name": "python3"
  },
  "language_info": {
   "codemirror_mode": {
    "name": "ipython",
    "version": 3
   },
   "file_extension": ".py",
   "mimetype": "text/x-python",
   "name": "python",
   "nbconvert_exporter": "python",
   "pygments_lexer": "ipython3",
   "version": "3.7.6"
  }
 },
 "nbformat": 4,
 "nbformat_minor": 4
}
