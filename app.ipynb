{
 "cells": [
  {
   "cell_type": "code",
   "execution_count": 1,
   "metadata": {},
   "outputs": [],
   "source": [
    "# Integrating with ganache"
   ]
  },
  {
   "cell_type": "code",
   "execution_count": 2,
   "metadata": {},
   "outputs": [],
   "source": [
    "# Importing libraries\n",
    "from web3 import Web3\n",
    "import json"
   ]
  },
  {
   "cell_type": "code",
   "execution_count": 3,
   "metadata": {},
   "outputs": [
    {
     "name": "stdout",
     "output_type": "stream",
     "text": [
      "isConnected: True\n",
      "0x2e2354100A70E7685A6A438718671cDB1a53D77A\n",
      "0x79fa9651E2B212BF4d7D9bbC171165587Ea6B008\n",
      "0x6dD7cf238eF7f83b9865084c602288F431b68Cfb\n",
      "0x760B1328D0d2C721010f74b418995EAc8202303b\n",
      "0x04df27CBEfd364CEF9f77C7f196b49DEA11CC625\n"
     ]
    }
   ],
   "source": [
    "#Connection to Blockchain\n",
    "from web3 import Web3\n",
    "web3 = Web3(Web3.HTTPProvider('HTTP://127.0.0.1:7545'))\n",
    "print(\"isConnected:\",web3.isConnected())\n",
    "\n",
    "#gettin lists of accounts available, Account[0] will be like an auditor account\n",
    "accounts_list = web3.eth.accounts\n",
    "for i in accounts_list:\n",
    "    print(i)"
   ]
  },
  {
   "cell_type": "markdown",
   "metadata": {},
   "source": [
    "\n",
    "### Initial setup(s).\n",
    "1. First account in the list will be deployer of the contracts:<br>\n",
    "    1.1. `account[0]` owner of contract `Manufacturer`<br>\n",
    "    1.2. `account[0]` owner of contract `Consumer`\n",
    "<br>\n",
    "2. Rest other accounts will be consumers. <i><u>Note:</u></i> at the moment manufacturere is also or can act as a consumer.\n"
   ]
  },
  {
   "cell_type": "code",
   "execution_count": null,
   "metadata": {},
   "outputs": [],
   "source": [
    "#storing variables of manufacture\n",
    "manufacturer_address = accounts_list[0]\n",
    "print(\"Medicine Manufacturer:\",manufacturer_address)\n"
   ]
  },
  {
   "cell_type": "code",
   "execution_count": null,
   "metadata": {},
   "outputs": [],
   "source": [
    "#Function to createPill\n",
    "def createPill(owner): #onlyManufacturer\n",
    "    try:\n",
    "        transaction_hash = contract_manufacturer.functions.createpills().transact({'from':owner})\n",
    "        return transaction_hash.hex()\n",
    "    \n",
    "    except ValueError:\n",
    "        return \"Error: Only manufacturere can make pills\"\n",
    "    \n",
    "#adding function to consume pill\n",
    "    \n",
    "        \n",
    "#Function to check pillBook\n",
    "def pillBookData(pillIndex):\n",
    "    fields = ['Description','strength(mg)','imprints','pregnancyCategory','csaSchedule','consumedFalse','consumedBy']\n",
    "    _ = contract_manufacturer.functions.pillBook(pillIndex).call()\n",
    "    #zipping both:\n",
    "    return dict(zip(fields,_))"
   ]
  },
  {
   "cell_type": "markdown",
   "metadata": {},
   "source": [
    "#### Deploying `Manufacturer` contract "
   ]
  },
  {
   "cell_type": "code",
   "execution_count": null,
   "metadata": {},
   "outputs": [],
   "source": []
  },
  {
   "cell_type": "code",
   "execution_count": null,
   "metadata": {},
   "outputs": [],
   "source": [
    "#importing contract_address and abi from json\n",
    "with open('build/contracts/Manufacturer.json') as f:\n",
    "    manufacturer = json.load(f)"
   ]
  },
  {
   "cell_type": "code",
   "execution_count": null,
   "metadata": {},
   "outputs": [],
   "source": [
    "manufacturer_contract_address = manufacturer['networks']['5777']['address']\n",
    "manufacturer_contract_abi = manufacturer['abi']\n",
    "contract_manufacturer = web3.eth.contract(address = manufacturer_contract_address, abi = manufacturer_contract_abi)"
   ]
  },
  {
   "cell_type": "markdown",
   "metadata": {},
   "source": [
    "#### Playing with Contract"
   ]
  },
  {
   "cell_type": "code",
   "execution_count": null,
   "metadata": {},
   "outputs": [],
   "source": [
    "#1. Creating 5 pills\n",
    "#Only manufacturer can manufacture pills\n",
    "print(createPill(manufacturer_address))\n",
    "print(createPill(manufacturer_address))\n",
    "print(createPill(manufacturer_address))\n",
    "print(createPill(manufacturer_address))\n",
    "print(createPill(manufacturer_address))\n"
   ]
  },
  {
   "cell_type": "code",
   "execution_count": null,
   "metadata": {},
   "outputs": [],
   "source": [
    "# Getting State Variables\n",
    "# Company Name\n",
    "print('Company Name:',contract_manufacturer.functions.company().call())\n",
    "# Contract Owner\n",
    "print('Owner of Manufacturer Contact (address)',contract_manufacturer.functions.owner().call())\n",
    "# Production sequece, i.e. checking howmany produced from 1 to N-1\n",
    "print('Next production sequence Number:',contract_manufacturer.functions.produnctionSequece().call())"
   ]
  },
  {
   "cell_type": "markdown",
   "metadata": {},
   "source": [
    "#### Deploying `Consumer` contract "
   ]
  },
  {
   "cell_type": "code",
   "execution_count": null,
   "metadata": {},
   "outputs": [],
   "source": [
    "with open('build/contracts/Consumer.json') as f:\n",
    "    consumer = json.load(f)"
   ]
  },
  {
   "cell_type": "code",
   "execution_count": null,
   "metadata": {},
   "outputs": [],
   "source": [
    "consumer_contract_address = consumer['networks']['5777']['address']\n",
    "consumer_contract_abi = consumer['abi']\n",
    "contract_consumer = web3.eth.contract(address = consumer_contract_address, abi = consumer_contract_abi)"
   ]
  },
  {
   "cell_type": "code",
   "execution_count": null,
   "metadata": {},
   "outputs": [],
   "source": [
    "#1. 0xb10e2d527612073b26eecdfd717e6a320cf44b4afac2b0732d9fcbe2b7fa0cf6\n",
    "#2. 0x405787fa12a823e0f2b7631cc41b3ba8828b3321ca811111fa75cd3aa3bb5ace\n",
    "#3. 0xc2575a0e9e593c00f959f8c92f12db2869c3395a3b0502d05e2516446f71f85b\n",
    "#4. 0x8a35acfbc15ff81a39ae7d344fd709f28e8600b4aa8c65c6b64bfe7fe36bd19b\n",
    "#5. 0x036b6384b5eca791c62761152d0c79bb0604c104a5fb6f4eb0703f3154bb3db0"
   ]
  },
  {
   "cell_type": "code",
   "execution_count": null,
   "metadata": {},
   "outputs": [],
   "source": [
    "#Now consumer can only consume,\n",
    "#assuming that he is not call function to call information about the pill.\n",
    "#consumption we are doing only from other contract.\n",
    "\n",
    "#consuming pill with correct indexes\n",
    "pill_index = 1\n",
    "\n",
    "pill_consumption_hash = contract_consumer.functions.consumeThePill(pill_index).transact({'from':accounts_list[1]})\n",
    "print(pillBookData('0xb10e2d527612073b26eecdfd717e6a320cf44b4afac2b0732d9fcbe2b7fa0cf6'))"
   ]
  },
  {
   "cell_type": "code",
   "execution_count": null,
   "metadata": {},
   "outputs": [],
   "source": [
    "pill_index = 2\n",
    "\n",
    "pill_consumption_hash = contract_consumer.functions.consumeThePill(pill_index).transact({'from':accounts_list[2]})\n",
    "print(pillBookData('0x405787fa12a823e0f2b7631cc41b3ba8828b3321ca811111fa75cd3aa3bb5ace'))"
   ]
  },
  {
   "cell_type": "code",
   "execution_count": null,
   "metadata": {},
   "outputs": [],
   "source": [
    "pill_index = 3\n",
    "\n",
    "pill_consumption_hash = contract_consumer.functions.consumeThePill(pill_index).transact({'from':accounts_list[3]})\n",
    "print(pillBookData('0xc2575a0e9e593c00f959f8c92f12db2869c3395a3b0502d05e2516446f71f85b'))"
   ]
  },
  {
   "cell_type": "code",
   "execution_count": null,
   "metadata": {},
   "outputs": [],
   "source": []
  },
  {
   "cell_type": "code",
   "execution_count": null,
   "metadata": {
    "scrolled": true
   },
   "outputs": [],
   "source": []
  },
  {
   "cell_type": "code",
   "execution_count": null,
   "metadata": {
    "scrolled": true
   },
   "outputs": [],
   "source": [
    "pill_index = 4\n",
    "\n",
    "pill_consumption_hash = contract_consumer.functions.consumeThePill(pill_index).transact({'from':accounts_list[3]})\n",
    "print(pillBookData('0x8a35acfbc15ff81a39ae7d344fd709f28e8600b4aa8c65c6b64bfe7fe36bd19b'))"
   ]
  },
  {
   "cell_type": "code",
   "execution_count": null,
   "metadata": {},
   "outputs": [],
   "source": [
    "pill_index = 5\n",
    "\n",
    "pill_consumption_hash = contract_consumer.functions.consumeThePill(pill_index).transact({'from':accounts_list[3]})\n",
    "print(pillBookData('0x036b6384b5eca791c62761152d0c79bb0604c104a5fb6f4eb0703f3154bb3db0'))"
   ]
  },
  {
   "cell_type": "code",
   "execution_count": null,
   "metadata": {
    "scrolled": true
   },
   "outputs": [],
   "source": []
  },
  {
   "cell_type": "markdown",
   "metadata": {},
   "source": [
    "#### Taking Transaction Reciept"
   ]
  },
  {
   "cell_type": "code",
   "execution_count": null,
   "metadata": {},
   "outputs": [],
   "source": [
    "bid_txn_receipt = web3.eth.waitForTransactionReceipt(\"0xb88468d82d55cb6607e395ec170785a4ce5c025a1efd1d790c9a61c091ea8968\")\n",
    "print(bid_txn_receipt)"
   ]
  },
  {
   "cell_type": "code",
   "execution_count": null,
   "metadata": {
    "scrolled": true
   },
   "outputs": [],
   "source": [
    "tx_receipt = web3.eth.getTransactionReceipt('0xb88468d82d55cb6607e395ec170785a4ce5c025a1efd1d790c9a61c091ea8968')\n",
    "rich_logs = contract_manufacturer.events.PillCreated().processReceipt(tx_receipt)"
   ]
  },
  {
   "cell_type": "code",
   "execution_count": null,
   "metadata": {},
   "outputs": [],
   "source": [
    "rich_logs[0]['args']"
   ]
  },
  {
   "cell_type": "code",
   "execution_count": null,
   "metadata": {},
   "outputs": [],
   "source": [
    "rich_logs[0]['args']['description']"
   ]
  },
  {
   "cell_type": "code",
   "execution_count": null,
   "metadata": {},
   "outputs": [],
   "source": [
    "rich_logs[0]['args']['message']"
   ]
  },
  {
   "cell_type": "code",
   "execution_count": null,
   "metadata": {},
   "outputs": [],
   "source": []
  }
 ],
 "metadata": {
  "kernelspec": {
   "display_name": "Python 3",
   "language": "python",
   "name": "python3"
  },
  "language_info": {
   "codemirror_mode": {
    "name": "ipython",
    "version": 3
   },
   "file_extension": ".py",
   "mimetype": "text/x-python",
   "name": "python",
   "nbconvert_exporter": "python",
   "pygments_lexer": "ipython3",
   "version": "3.7.6"
  }
 },
 "nbformat": 4,
 "nbformat_minor": 4
}
