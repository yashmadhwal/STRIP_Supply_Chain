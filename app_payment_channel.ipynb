{
 "cells": [
  {
   "cell_type": "code",
   "execution_count": 1,
   "metadata": {},
   "outputs": [],
   "source": [
    "# Integrating with ganache"
   ]
  },
  {
   "cell_type": "code",
   "execution_count": 2,
   "metadata": {},
   "outputs": [],
   "source": [
    "# Importing libraries\n",
    "from web3 import Web3\n",
    "import json"
   ]
  },
  {
   "cell_type": "code",
   "execution_count": 3,
   "metadata": {},
   "outputs": [
    {
     "name": "stdout",
     "output_type": "stream",
     "text": [
      "isConnected: True\n",
      "0x2c2cc39185c81247F13FCd9d221EedBE5B3cA67E\n",
      "0xc1a28A333D77eE25eA6dcB96DCe51Db6a8a78E75\n",
      "0x27c4FA9f17e939203F2986660ad5C87b4C62c426\n",
      "0x72280e1c8BbeD3d4472fad1a6e2FFBb5B0E89835\n",
      "0xB59F6Cb8fbE4133009339490bB037e595Fc7C666\n"
     ]
    }
   ],
   "source": [
    "#Connection to Blockchain\n",
    "from web3 import Web3\n",
    "web3 = Web3(Web3.HTTPProvider('HTTP://127.0.0.1:7545'))\n",
    "print(\"isConnected:\",web3.isConnected())\n",
    "\n",
    "#gettin lists of accounts available, Account[0] will be like an auditor account\n",
    "accounts_list = web3.eth.accounts\n",
    "for i in accounts_list:\n",
    "    print(i)"
   ]
  },
  {
   "cell_type": "markdown",
   "metadata": {},
   "source": [
    "\n",
    "### Initial setup(s).\n",
    "1. First account in the list will be deployer of the contracts:<br>\n",
    "    1.1. `account[0]` owner of contract `Manufacturer`<br>\n",
    "    1.2. `account[0]` owner of contract `Consumer`\n",
    "<br>\n",
    "2. Rest other accounts will be consumers. <i><u>Note:</u></i> at the moment manufacturere is also or can act as a consumer.\n"
   ]
  },
  {
   "cell_type": "code",
   "execution_count": 4,
   "metadata": {},
   "outputs": [
    {
     "name": "stdout",
     "output_type": "stream",
     "text": [
      "Medicine Manufacturer: 0x2c2cc39185c81247F13FCd9d221EedBE5B3cA67E\n"
     ]
    }
   ],
   "source": [
    "#storing variables of manufacture\n",
    "manufacturer_address = accounts_list[0]\n",
    "print(\"Medicine Manufacturer:\",manufacturer_address)\n"
   ]
  },
  {
   "cell_type": "code",
   "execution_count": 5,
   "metadata": {},
   "outputs": [],
   "source": [
    "#Function to createPill\n",
    "def createPill(owner): #onlyManufacturer\n",
    "    try:\n",
    "        transaction_hash = contract_manufacturer.functions.createpills().transact({'from':owner})\n",
    "        return transaction_hash.hex()\n",
    "    \n",
    "    except ValueError:\n",
    "        return \"Error: Only manufacturere can make pills\"\n",
    "    \n",
    "#adding function to consume pill\n",
    "    \n",
    "        \n",
    "#Function to check pillBook\n",
    "def pillBookData(pillIndex):\n",
    "    fields = ['Description','strength(mg)','imprints','pregnancyCategory','csaSchedule','consumedFalse','consumedBy']\n",
    "    _ = contract_manufacturer.functions.pillBook(pillIndex).call()\n",
    "    #zipping both:\n",
    "    return dict(zip(fields,_))"
   ]
  },
  {
   "cell_type": "markdown",
   "metadata": {},
   "source": [
    "#### Deploying `Manufacturer` contract "
   ]
  },
  {
   "cell_type": "code",
   "execution_count": null,
   "metadata": {},
   "outputs": [],
   "source": []
  },
  {
   "cell_type": "code",
   "execution_count": 7,
   "metadata": {},
   "outputs": [],
   "source": [
    "# importing contract_address and abi from json\n",
    "with open('build/contracts/Manufacturer.json') as f:\n",
    "    manufacturer = json.load(f)"
   ]
  },
  {
   "cell_type": "code",
   "execution_count": 8,
   "metadata": {},
   "outputs": [],
   "source": [
    "manufacturer_contract_address = manufacturer['networks']['5777']['address']\n",
    "manufacturer_contract_abi = manufacturer['abi']\n",
    "contract_manufacturer = web3.eth.contract(address = manufacturer_contract_address, abi = manufacturer_contract_abi)"
   ]
  },
  {
   "cell_type": "markdown",
   "metadata": {},
   "source": [
    "#### Playing with Contract"
   ]
  },
  {
   "cell_type": "code",
   "execution_count": 9,
   "metadata": {},
   "outputs": [
    {
     "name": "stdout",
     "output_type": "stream",
     "text": [
      "0xf075fb38125c8816fa8e4850ffa046a1e221ff4a39ae50208a3dd8c127037485\n",
      "0xbc199807b4511552a39d43b6e481dc20089bfe56d3e228c6141e37290e343960\n",
      "0x36e070339fa6a6dc27cde9cbf5817d45b3a2c98c4bec63b96c1d0f82c69e84b3\n",
      "0x6cce8e81e2b4f4c513299714c1f9384bcf42dc7d3461f4cd21797c78c6303198\n",
      "0xb88b2734139b23444fd6bb2816fe764d31b09c95d9c6c1f22c2a799c3437809a\n"
     ]
    }
   ],
   "source": [
    "#1. Creating 5 pills\n",
    "#Only manufacturer can manufacture pills\n",
    "print(createPill(manufacturer_address))\n",
    "print(createPill(manufacturer_address))\n",
    "print(createPill(manufacturer_address))\n",
    "print(createPill(manufacturer_address))\n",
    "print(createPill(manufacturer_address))\n"
   ]
  },
  {
   "cell_type": "code",
   "execution_count": 10,
   "metadata": {},
   "outputs": [
    {
     "name": "stdout",
     "output_type": "stream",
     "text": [
      "Company Name: PharmaCompany\n",
      "Owner of Manufacturer Contact (address) 0x2c2cc39185c81247F13FCd9d221EedBE5B3cA67E\n",
      "Next production sequence Number: 6\n"
     ]
    }
   ],
   "source": [
    "# Getting State Variables\n",
    "# Company Name\n",
    "print('Company Name:',contract_manufacturer.functions.company().call())\n",
    "# Contract Owner\n",
    "print('Owner of Manufacturer Contact (address)',contract_manufacturer.functions.contractOwner().call())\n",
    "# Production sequece, i.e. checking howmany produced from 1 to N-1\n",
    "print('Next production sequence Number:',contract_manufacturer.functions.produnctionSequece().call())"
   ]
  },
  {
   "cell_type": "markdown",
   "metadata": {},
   "source": [
    "#### Deploying `Consumer` contract "
   ]
  },
  {
   "cell_type": "code",
   "execution_count": 11,
   "metadata": {},
   "outputs": [],
   "source": [
    "with open('build/contracts/Consumer.json') as f:\n",
    "    consumer = json.load(f)"
   ]
  },
  {
   "cell_type": "code",
   "execution_count": 12,
   "metadata": {},
   "outputs": [],
   "source": [
    "consumer_contract_address = consumer['networks']['5777']['address']\n",
    "consumer_contract_abi = consumer['abi']\n",
    "contract_consumer = web3.eth.contract(address = consumer_contract_address, abi = consumer_contract_abi)"
   ]
  },
  {
   "cell_type": "code",
   "execution_count": 13,
   "metadata": {},
   "outputs": [],
   "source": [
    "#KECCAK of int(1->5):\n",
    "#1. 0xb10e2d527612073b26eecdfd717e6a320cf44b4afac2b0732d9fcbe2b7fa0cf6\n",
    "#2. 0x405787fa12a823e0f2b7631cc41b3ba8828b3321ca811111fa75cd3aa3bb5ace\n",
    "#3. 0xc2575a0e9e593c00f959f8c92f12db2869c3395a3b0502d05e2516446f71f85b\n",
    "#4. 0x8a35acfbc15ff81a39ae7d344fd709f28e8600b4aa8c65c6b64bfe7fe36bd19b\n",
    "#5. 0x036b6384b5eca791c62761152d0c79bb0604c104a5fb6f4eb0703f3154bb3db0"
   ]
  },
  {
   "cell_type": "code",
   "execution_count": 14,
   "metadata": {},
   "outputs": [
    {
     "name": "stdout",
     "output_type": "stream",
     "text": [
      "{'Description': 1, 'strength(mg)': 10, 'imprints': 'PD 155 10', 'pregnancyCategory': 4, 'csaSchedule': 6, 'consumedFalse': False, 'consumedBy': '0x0000000000000000000000000000000000000000'}\n"
     ]
    }
   ],
   "source": [
    "#0x3a3c79c8993ceac4696e115af8b9ba2dfe605009910e21eccd6523469e3c4b99\n",
    "_ = pillBookData('0xb10e2d527612073b26eecdfd717e6a320cf44b4afac2b0732d9fcbe2b7fa0cf6')\n",
    "print(_)"
   ]
  },
  {
   "cell_type": "code",
   "execution_count": 15,
   "metadata": {},
   "outputs": [
    {
     "name": "stdout",
     "output_type": "stream",
     "text": [
      "{'Description': 1, 'strength(mg)': 10, 'imprints': 'PD 155 10', 'pregnancyCategory': 4, 'csaSchedule': 6, 'consumedFalse': True, 'consumedBy': '0xc1a28A333D77eE25eA6dcB96DCe51Db6a8a78E75'}\n"
     ]
    }
   ],
   "source": [
    "#Now consumer can only consume,\n",
    "#assuming that he is not call function to call information about the pill.\n",
    "#consumption we are doing only from other contract.\n",
    "\n",
    "#consuming pill with correct indexes\n",
    "pill_index = 1\n",
    "\n",
    "pill_consumption_hash = contract_consumer.functions.consumeThePill(pill_index).transact({'from':accounts_list[1],'value': 1000000000000000000})\n",
    "print(pillBookData('0xb10e2d527612073b26eecdfd717e6a320cf44b4afac2b0732d9fcbe2b7fa0cf6'))"
   ]
  },
  {
   "cell_type": "code",
   "execution_count": 17,
   "metadata": {},
   "outputs": [
    {
     "name": "stdout",
     "output_type": "stream",
     "text": [
      "{'Description': 2, 'strength(mg)': 10, 'imprints': 'PD 155 10', 'pregnancyCategory': 4, 'csaSchedule': 6, 'consumedFalse': True, 'consumedBy': '0x27c4FA9f17e939203F2986660ad5C87b4C62c426'}\n"
     ]
    }
   ],
   "source": [
    "pill_index = 2\n",
    "\n",
    "pill_consumption_hash = contract_consumer.functions.consumeThePill(pill_index).transact({'from':accounts_list[2],'value': 1000000000000000000})\n",
    "print(pillBookData('0x405787fa12a823e0f2b7631cc41b3ba8828b3321ca811111fa75cd3aa3bb5ace'))"
   ]
  },
  {
   "cell_type": "code",
   "execution_count": 16,
   "metadata": {},
   "outputs": [
    {
     "name": "stdout",
     "output_type": "stream",
     "text": [
      "{'Description': 3, 'strength(mg)': 10, 'imprints': 'PD 155 10', 'pregnancyCategory': 4, 'csaSchedule': 6, 'consumedFalse': True, 'consumedBy': '0x72280e1c8BbeD3d4472fad1a6e2FFBb5B0E89835'}\n"
     ]
    }
   ],
   "source": [
    "pill_index = 3\n",
    "\n",
    "pill_consumption_hash = contract_consumer.functions.consumeThePill(pill_index).transact({'from':accounts_list[3],'value': 1000000000000000000})\n",
    "print(pillBookData('0xc2575a0e9e593c00f959f8c92f12db2869c3395a3b0502d05e2516446f71f85b'))"
   ]
  },
  {
   "cell_type": "code",
   "execution_count": null,
   "metadata": {},
   "outputs": [],
   "source": []
  },
  {
   "cell_type": "code",
   "execution_count": null,
   "metadata": {
    "scrolled": true
   },
   "outputs": [],
   "source": []
  },
  {
   "cell_type": "code",
   "execution_count": 18,
   "metadata": {
    "scrolled": true
   },
   "outputs": [
    {
     "name": "stdout",
     "output_type": "stream",
     "text": [
      "{'Description': 4, 'strength(mg)': 10, 'imprints': 'PD 155 10', 'pregnancyCategory': 4, 'csaSchedule': 6, 'consumedFalse': True, 'consumedBy': '0x72280e1c8BbeD3d4472fad1a6e2FFBb5B0E89835'}\n"
     ]
    }
   ],
   "source": [
    "pill_index = 4\n",
    "\n",
    "pill_consumption_hash = contract_consumer.functions.consumeThePill(pill_index).transact({'from':accounts_list[3],'value': 1000000000000000000})\n",
    "print(pillBookData('0x8a35acfbc15ff81a39ae7d344fd709f28e8600b4aa8c65c6b64bfe7fe36bd19b'))"
   ]
  },
  {
   "cell_type": "code",
   "execution_count": 19,
   "metadata": {},
   "outputs": [
    {
     "name": "stdout",
     "output_type": "stream",
     "text": [
      "{'Description': 5, 'strength(mg)': 10, 'imprints': 'PD 155 10', 'pregnancyCategory': 4, 'csaSchedule': 6, 'consumedFalse': True, 'consumedBy': '0x72280e1c8BbeD3d4472fad1a6e2FFBb5B0E89835'}\n"
     ]
    }
   ],
   "source": [
    "pill_index = 5\n",
    "\n",
    "pill_consumption_hash = contract_consumer.functions.consumeThePill(pill_index).transact({'from':accounts_list[3],'value': 1000000000000000000})\n",
    "print(pillBookData('0x036b6384b5eca791c62761152d0c79bb0604c104a5fb6f4eb0703f3154bb3db0'))"
   ]
  },
  {
   "cell_type": "code",
   "execution_count": null,
   "metadata": {
    "scrolled": true
   },
   "outputs": [],
   "source": []
  },
  {
   "cell_type": "markdown",
   "metadata": {},
   "source": [
    "#### Taking Transaction Reciept"
   ]
  },
  {
   "cell_type": "code",
   "execution_count": null,
   "metadata": {},
   "outputs": [],
   "source": [
    "bid_txn_receipt = web3.eth.waitForTransactionReceipt(\"0x367749f5b9e9785452ab76b6eec59e3e07a6ffa0452bab988aaf1cc35b73b03b\")\n",
    "print(bid_txn_receipt)"
   ]
  },
  {
   "cell_type": "code",
   "execution_count": null,
   "metadata": {
    "scrolled": true
   },
   "outputs": [],
   "source": [
    "tx_receipt = web3.eth.getTransactionReceipt('0x367749f5b9e9785452ab76b6eec59e3e07a6ffa0452bab988aaf1cc35b73b03b')\n",
    "rich_logs = contract_manufacturer.events.PillCreated().processReceipt(tx_receipt)"
   ]
  },
  {
   "cell_type": "code",
   "execution_count": null,
   "metadata": {},
   "outputs": [],
   "source": [
    "rich_logs[0]['args']"
   ]
  },
  {
   "cell_type": "code",
   "execution_count": null,
   "metadata": {},
   "outputs": [],
   "source": [
    "rich_logs[0]['args']['description']"
   ]
  },
  {
   "cell_type": "code",
   "execution_count": null,
   "metadata": {},
   "outputs": [],
   "source": [
    "rich_logs[0]['args']['message']"
   ]
  },
  {
   "cell_type": "code",
   "execution_count": null,
   "metadata": {},
   "outputs": [],
   "source": []
  }
 ],
 "metadata": {
  "kernelspec": {
   "display_name": "Python 3",
   "language": "python",
   "name": "python3"
  },
  "language_info": {
   "codemirror_mode": {
    "name": "ipython",
    "version": 3
   },
   "file_extension": ".py",
   "mimetype": "text/x-python",
   "name": "python",
   "nbconvert_exporter": "python",
   "pygments_lexer": "ipython3",
   "version": "3.7.6"
  }
 },
 "nbformat": 4,
 "nbformat_minor": 4
}
